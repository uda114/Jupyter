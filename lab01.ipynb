{
 "cells": [
  {
   "cell_type": "code",
   "execution_count": 1,
   "id": "progressive-implement",
   "metadata": {},
   "outputs": [],
   "source": [
    "import cv2"
   ]
  },
  {
   "cell_type": "code",
   "execution_count": 2,
   "id": "extreme-mexican",
   "metadata": {},
   "outputs": [],
   "source": [
    "img = cv2.imread(\"C:/Users/Udara Chamikara/Desktop/IUP/1.jpg\",1)\n",
    "cv2.imshow('input window',img)\n",
    "cv2.waitKey()\n",
    "cv2.destroyAllWindows()"
   ]
  },
  {
   "cell_type": "code",
   "execution_count": 3,
   "id": "palestinian-astronomy",
   "metadata": {},
   "outputs": [],
   "source": [
    "img = cv2.imread(\"C:/Users/Udara Chamikara/Desktop/IUP/1.jpg\",cv2.IMREAD_COLOR)\n",
    "cv2.imshow('input window',img)\n",
    "cv2.waitKey()\n",
    "cv2.destroyAllWindows()"
   ]
  },
  {
   "cell_type": "code",
   "execution_count": null,
   "id": "julian-stuff",
   "metadata": {},
   "outputs": [],
   "source": [
    "img = cv2.imread(\"C:/Users/Udara Chamikara/Desktop/IUP/1.jpg\",cv2.IMREAD_GRAYSCALE)\n",
    "cv2.imshow('input window',img)\n",
    "cv2.waitKey()\n",
    "cv2.destroyAllWindows()"
   ]
  },
  {
   "cell_type": "code",
   "execution_count": 3,
   "id": "freelance-termination",
   "metadata": {},
   "outputs": [],
   "source": [
    "img = cv2.imread(\"C:/Users/Udara Chamikara/Desktop/IUP/1.jpg\",cv2.IMREAD_UNCHANGED)\n",
    "cv2.imshow('input window',img)\n",
    "cv2.waitKey()\n",
    "cv2.destroyAllWindows()"
   ]
  },
  {
   "cell_type": "code",
   "execution_count": 6,
   "id": "exotic-despite",
   "metadata": {},
   "outputs": [
    {
     "name": "stdout",
     "output_type": "stream",
     "text": [
      "Image successfully saved ? True\n"
     ]
    }
   ],
   "source": [
    "img = cv2.imread(\"C:/Users/Udara Chamikara/Desktop/IUP/1.jpg\",cv2.IMREAD_COLOR)\n",
    "cv2.imshow('input window',img)\n",
    "status = cv2.imwrite('C:/Users/Udara Chamikara/Desktop/IUP/2.jpg',img)\n",
    "print(\"Image successfully saved ?\", status)\n",
    "cv2.waitKey()\n",
    "cv2.destroyAllWindows()"
   ]
  },
  {
   "cell_type": "code",
   "execution_count": 7,
   "id": "another-skill",
   "metadata": {},
   "outputs": [
    {
     "name": "stdout",
     "output_type": "stream",
     "text": [
      "[ 33 172 145]\n"
     ]
    }
   ],
   "source": [
    "# For color Image\n",
    "\n",
    "img = cv2.imread(\"C:/Users/Udara Chamikara/Desktop/IUP/1.jpg\",cv2.IMREAD_COLOR)\n",
    "px = img[50,100]  # pixsel cordinates (x,y)\n",
    "print(px) # Blue Green Red ( 33 172 145 )\n",
    "cv2.imshow('input window',img)\n",
    "cv2.waitKey()\n",
    "cv2.destroyAllWindows()"
   ]
  },
  {
   "cell_type": "code",
   "execution_count": 8,
   "id": "endless-canvas",
   "metadata": {},
   "outputs": [
    {
     "name": "stdout",
     "output_type": "stream",
     "text": [
      "148\n"
     ]
    }
   ],
   "source": [
    "# For Grayscale Image \n",
    "\n",
    "img = cv2.imread(\"C:/Users/Udara Chamikara/Desktop/IUP/1.jpg\",cv2.IMREAD_GRAYSCALE)\n",
    "px = img[50,100]  # pixsel cordinates (x,y)\n",
    "print(px) # single value ( 148 )\n",
    "cv2.imshow('input window',img)\n",
    "cv2.waitKey()\n",
    "cv2.destroyAllWindows()"
   ]
  },
  {
   "cell_type": "code",
   "execution_count": 2,
   "id": "brief-belly",
   "metadata": {},
   "outputs": [
    {
     "name": "stdout",
     "output_type": "stream",
     "text": [
      "[ 33 172 145]\n",
      "[255 255 255]\n"
     ]
    }
   ],
   "source": [
    "#For modify image (color image)\n",
    "import cv2\n",
    "img = cv2.imread(\"C:/Users/Udara Chamikara/Desktop/IUP/1.jpg\",cv2.IMREAD_COLOR)\n",
    "px = img[50,100]  # pixsel cordinates (x,y)\n",
    "print(px) # Blue Green Red ( 33 172 145 )\n",
    "img [50,100] = [255,255,255] # how to change pixel value\n",
    "print(img[50,100]) # print the pixel value\n",
    "cv2.imshow('input window',img)\n",
    "cv2.waitKey()\n",
    "cv2.destroyAllWindows() "
   ]
  },
  {
   "cell_type": "code",
   "execution_count": 10,
   "id": "intimate-graduate",
   "metadata": {},
   "outputs": [
    {
     "name": "stdout",
     "output_type": "stream",
     "text": [
      "148\n",
      "255\n"
     ]
    }
   ],
   "source": [
    "#for modify image ( Grayscale Image)\n",
    "\n",
    "img = cv2.imread(\"C:/Users/Udara Chamikara/Desktop/IUP/1.jpg\",cv2.IMREAD_GRAYSCALE)\n",
    "px = img[50,100]  # pixsel cordinates (x,y)\n",
    "print(px) # single value ( 148 )\n",
    "img[50,100] = 255\n",
    "print(img[50,100])\n",
    "cv2.imshow('input window',img)\n",
    "cv2.waitKey()\n",
    "cv2.destroyAllWindows()"
   ]
  },
  {
   "cell_type": "code",
   "execution_count": 11,
   "id": "center-remove",
   "metadata": {},
   "outputs": [
    {
     "name": "stdout",
     "output_type": "stream",
     "text": [
      "(113, 150, 3)\n",
      "50850\n",
      "uint8\n"
     ]
    }
   ],
   "source": [
    "\n",
    "img = cv2.imread(\"C:/Users/Udara Chamikara/Desktop/IUP/1.jpg\",1)\n",
    "print(img.shape) # Size = 133 x 150 and colors = 3\n",
    "print(img.size)\n",
    "print(img.dtype)\n",
    "cv2.imshow('input window',img)\n",
    "cv2.waitKey()\n",
    "cv2.destroyAllWindows()"
   ]
  },
  {
   "cell_type": "code",
   "execution_count": 12,
   "id": "broken-leave",
   "metadata": {},
   "outputs": [
    {
     "name": "stdout",
     "output_type": "stream",
     "text": [
      "(113, 150)\n",
      "16950\n",
      "uint8\n"
     ]
    }
   ],
   "source": [
    "\n",
    "img = cv2.imread(\"C:/Users/Udara Chamikara/Desktop/IUP/1.jpg\",0)\n",
    "print(img.shape) # Size = 133 x 150 single color channels\n",
    "print(img.size)\n",
    "print(img.dtype)\n",
    "cv2.imshow('input window',img)\n",
    "cv2.waitKey()\n",
    "cv2.destroyAllWindows()"
   ]
  },
  {
   "cell_type": "code",
   "execution_count": 3,
   "id": "infrared-explosion",
   "metadata": {},
   "outputs": [],
   "source": [
    "import cv2\n",
    "img = cv2.imread(\"C:/Users/Udara Chamikara/Desktop/IUP/1.jpg\",1)\n",
    "cv2.imshow('input window',img)\n",
    "gray = cv2.cvtColor(img,cv2.COLOR_BGR2GRAY)\n",
    "cv2.imshow('output window',gray)\n",
    "cv2.waitKey()\n",
    "cv2.destroyAllWindows()"
   ]
  },
  {
   "cell_type": "code",
   "execution_count": null,
   "id": "conscious-amino",
   "metadata": {},
   "outputs": [],
   "source": []
  },
  {
   "cell_type": "code",
   "execution_count": 1,
   "id": "corporate-garden",
   "metadata": {},
   "outputs": [
    {
     "ename": "TypeError",
     "evalue": "Expected Ptr<cv::UMat> for argument 'mat'",
     "output_type": "error",
     "traceback": [
      "\u001b[1;31m---------------------------------------------------------------------------\u001b[0m",
      "\u001b[1;31mTypeError\u001b[0m                                 Traceback (most recent call last)",
      "\u001b[1;32m<ipython-input-1-8ef4085db07f>\u001b[0m in \u001b[0;36m<module>\u001b[1;34m\u001b[0m\n\u001b[0;32m     10\u001b[0m \u001b[1;33m\u001b[0m\u001b[0m\n\u001b[0;32m     11\u001b[0m \u001b[0mGray\u001b[0m \u001b[1;33m=\u001b[0m \u001b[0mcv2\u001b[0m\u001b[1;33m.\u001b[0m\u001b[0msplit\u001b[0m\u001b[1;33m(\u001b[0m\u001b[0mimg\u001b[0m\u001b[1;33m)\u001b[0m\u001b[1;33m\u001b[0m\u001b[1;33m\u001b[0m\u001b[0m\n\u001b[1;32m---> 12\u001b[1;33m \u001b[0mcv2\u001b[0m\u001b[1;33m.\u001b[0m\u001b[0mimshow\u001b[0m\u001b[1;33m(\u001b[0m\u001b[1;34m'split imsge'\u001b[0m\u001b[1;33m,\u001b[0m \u001b[0mGray\u001b[0m\u001b[1;33m)\u001b[0m\u001b[1;33m\u001b[0m\u001b[1;33m\u001b[0m\u001b[0m\n\u001b[0m\u001b[0;32m     13\u001b[0m \u001b[1;33m\u001b[0m\u001b[0m\n\u001b[0;32m     14\u001b[0m \u001b[0mcv2\u001b[0m\u001b[1;33m.\u001b[0m\u001b[0mwaitKey\u001b[0m\u001b[1;33m(\u001b[0m\u001b[1;33m)\u001b[0m\u001b[1;33m\u001b[0m\u001b[1;33m\u001b[0m\u001b[0m\n",
      "\u001b[1;31mTypeError\u001b[0m: Expected Ptr<cv::UMat> for argument 'mat'"
     ]
    }
   ],
   "source": [
    "import cv2\n",
    "img = cv2.imread(\"C:/Users/Udara Chamikara/Desktop/IUP/1.jpg\",1)\n",
    "cv2.imshow('input window',img)\n",
    "\n",
    "gray = cv2.cvtColor(img,cv2.COLOR_BGR2GRAY)\n",
    "#cv2.imshow('output window 1',gray)\n",
    "\n",
    "res,binary = cv2.threshold(gray,120, 255, cv2.THRESH_BINARY)\n",
    "#cv2.imshow('output window 2',binary)\n",
    "\n",
    "Gray = cv2.split(img)\n",
    "cv2.imshow('split imsge', Gray)\n",
    "\n",
    "cv2.waitKey()\n",
    "cv2.destroyAllWindows()"
   ]
  },
  {
   "cell_type": "code",
   "execution_count": 1,
   "id": "romantic-imperial",
   "metadata": {},
   "outputs": [],
   "source": [
    "import cv2\n",
    "\n",
    "img = cv2.imread('C:/Users/Udara Chamikara/Desktop/IUP/1.jpg', 1)\n",
    "[B, G, R] = cv2.split(img)\n",
    "cv2.imshow('Blue Image' , B)\n",
    "cv2.imshow('Green Image', G)\n",
    "cv2.imshow('Red Image', R)\n",
    "\n",
    "mergeimg = cv2.merge([B, G, R])\n",
    "cv2.imshow('Merged Image', mergeimg)\n",
    "\n",
    "cv2.waitKey()\n",
    "cv2.destroyAllWindows()\n",
    "\n"
   ]
  },
  {
   "cell_type": "code",
   "execution_count": null,
   "id": "opposed-leadership",
   "metadata": {},
   "outputs": [],
   "source": [
    "import cv2\n",
    "import numpy\n",
    "from PIL import Image\n",
    "\n",
    "img = cv2.imread('C:/Users/Udara Chamikara/Desktop/IUP/1.jpg', 1)\n",
    "cv2.imshow('Input Image', img)\n",
    "\n",
    "imge = Image.open('C:/Users/Udara Chamikara/Desktop/IUP/1.jpg')\n",
    "\n",
    "rotateimg = imge.rotate(45)\n",
    "rotateimg.save('C:/Users/Udara Chamikara/Desktop/IUP/Rotate Image1.jpg', expand = True)\n",
    "\n",
    "cv2.waitKey()\n",
    "cv2.destroyAllWindows()"
   ]
  },
  {
   "cell_type": "code",
   "execution_count": 3,
   "id": "forty-settle",
   "metadata": {},
   "outputs": [],
   "source": [
    "import cv2\n",
    "img = cv2.imread(\"C:/Users/Udara Chamikara/Desktop/IUP/1.jpg\",1)\n",
    "cv2.imshow('input window',img)\n",
    "\n",
    "dsize=(400, 400)\n",
    "\n",
    "img1 = cv2.resize(img, dsize)\n",
    "cv2.imshow('Resize Image', img1)\n",
    "\n",
    "cv2.waitKey()\n",
    "cv2.destroyAllWindows()"
   ]
  },
  {
   "cell_type": "code",
   "execution_count": 15,
   "id": "minus-possession",
   "metadata": {},
   "outputs": [],
   "source": [
    "import cv2\n",
    "img = cv2.imread(\"C:/Users/Udara Chamikara/Desktop/IUP/1.jpg\",1)\n",
    "cv2.imshow('input window',img)\n",
    "\n",
    "center_coordinates = (70, 70)\n",
    "\n",
    "radious = 50\n",
    "\n",
    "color = (255,0,0)\n",
    "\n",
    "thickness = 9\n",
    "\n",
    "circle = cv2.circle(img, center_coordinates, radious, color, thickness )\n",
    "\n",
    "cv2.imshow('Circle Image', circle)\n",
    "\n",
    "cv2.waitKey()\n",
    "cv2.destroyAllWindows()"
   ]
  },
  {
   "cell_type": "code",
   "execution_count": 19,
   "id": "rational-messaging",
   "metadata": {},
   "outputs": [],
   "source": [
    "import cv2\n",
    "\n",
    "img = cv2.imread(\"C:/Users/Udara Chamikara/Desktop/IUP/1.jpg\",1)\n",
    "\n",
    "dsize = (400, 400)\n",
    "\n",
    "imge = cv2.resize(img, dsize)\n",
    "cv2.imshow('input window',imge)\n",
    "\n",
    "start_point = (20,20)\n",
    "\n",
    "end_point = (30, 300)\n",
    "\n",
    "tickness = 3\n",
    "\n",
    "rectangle = cv2.rectangle(imge, start_point, end_point , tickness)\n",
    "\n",
    "cv2.imshow('Rectangle Image', rectangle)\n",
    "\n",
    "cv2.waitKey()\n",
    "cv2.destroyAllWindows()"
   ]
  },
  {
   "cell_type": "code",
   "execution_count": 4,
   "id": "furnished-constitution",
   "metadata": {},
   "outputs": [],
   "source": [
    "import cv2\n",
    "\n",
    "img = cv2.imread(\"C:/Users/Udara Chamikara/Desktop/IUP/1.jpg\",1)\n",
    "\n",
    "dsize = (400, 400)\n",
    "\n",
    "imge = cv2.resize(img, dsize)\n",
    "cv2.imshow('input window',imge)\n",
    "\n",
    "start_point = (20,300)\n",
    "\n",
    "end_point = (200, 300)\n",
    "\n",
    "color = (178, 153, 67)\n",
    "\n",
    "tickness = 3\n",
    "\n",
    "line = cv2.line(imge, start_point, end_point , color, tickness)\n",
    "\n",
    "cv2.imshow('Line Image', line)\n",
    "\n",
    "cv2.waitKey()\n",
    "cv2.destroyAllWindows()"
   ]
  },
  {
   "cell_type": "code",
   "execution_count": null,
   "id": "filled-modern",
   "metadata": {},
   "outputs": [],
   "source": []
  }
 ],
 "metadata": {
  "kernelspec": {
   "display_name": "Python 3",
   "language": "python",
   "name": "python3"
  },
  "language_info": {
   "codemirror_mode": {
    "name": "ipython",
    "version": 3
   },
   "file_extension": ".py",
   "mimetype": "text/x-python",
   "name": "python",
   "nbconvert_exporter": "python",
   "pygments_lexer": "ipython3",
   "version": "3.8.8"
  }
 },
 "nbformat": 4,
 "nbformat_minor": 5
}
